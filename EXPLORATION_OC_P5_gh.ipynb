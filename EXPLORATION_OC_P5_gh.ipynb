{
 "cells": [
  {
   "cell_type": "markdown",
   "metadata": {},
   "source": [
    "# Exploration of retail dataset\n",
    "#### by Jérôme d'Harveng\n",
    "\n",
    "<a id='table'></a>\n",
    "## Table of Contents\n",
    "<ul>\n",
    "<li><a href=\"#univariate\">Univariate exploration</a></li>\n",
    "<li><a href=\"#multivariate\">Multivariate exploration</a></li>\n",
    "<li><a href=\"#RFM\">Feature Engineering: RFM Score</a></li>\n",
    "<li><a href=\"#exporting\">Exporting to csv</a></li>\n",
    "</ul>"
   ]
  },
  {
   "cell_type": "markdown",
   "metadata": {},
   "source": [
    "### Loading cleaned dataset and importing libraries"
   ]
  },
  {
   "cell_type": "code",
   "execution_count": 1,
   "metadata": {},
   "outputs": [],
   "source": [
    "# starting by import the required libraries\n",
    "import numpy as np\n",
    "import pandas as pd\n",
    "import matplotlib.pyplot as plt\n",
    "import seaborn as sb\n",
    "import scipy.stats as st\n",
    "import operator\n",
    "import datetime as dt\n",
    "\n",
    "%matplotlib inline"
   ]
  },
  {
   "cell_type": "code",
   "execution_count": 2,
   "metadata": {},
   "outputs": [],
   "source": [
    "df_sales = pd.read_csv('df_sales_clean.csv', sep=\",\", encoding='utf_8')\n",
    "df_segmentation = pd.read_csv('df_segmentation.csv', sep=\",\", encoding='utf_8')"
   ]
  },
  {
   "cell_type": "code",
   "execution_count": 3,
   "metadata": {},
   "outputs": [
    {
     "name": "stdout",
     "output_type": "stream",
     "text": [
      "Size df_sales :  (401363, 13)\n",
      "Size df_segmentation :  (390921, 13)\n"
     ]
    }
   ],
   "source": [
    "print(\"Size df_sales : \", df_sales.shape)\n",
    "print(\"Size df_segmentation : \",df_segmentation.shape)"
   ]
  },
  {
   "cell_type": "code",
   "execution_count": 4,
   "metadata": {},
   "outputs": [
    {
     "data": {
      "text/html": [
       "<div>\n",
       "<style scoped>\n",
       "    .dataframe tbody tr th:only-of-type {\n",
       "        vertical-align: middle;\n",
       "    }\n",
       "\n",
       "    .dataframe tbody tr th {\n",
       "        vertical-align: top;\n",
       "    }\n",
       "\n",
       "    .dataframe thead th {\n",
       "        text-align: right;\n",
       "    }\n",
       "</style>\n",
       "<table border=\"1\" class=\"dataframe\">\n",
       "  <thead>\n",
       "    <tr style=\"text-align: right;\">\n",
       "      <th></th>\n",
       "      <th>InvoiceNo</th>\n",
       "      <th>StockCode</th>\n",
       "      <th>Description</th>\n",
       "      <th>Quantity</th>\n",
       "      <th>InvoiceDate</th>\n",
       "      <th>UnitPrice</th>\n",
       "      <th>CustomerID</th>\n",
       "      <th>Country</th>\n",
       "      <th>Amount</th>\n",
       "      <th>Month</th>\n",
       "      <th>DayOfMonth</th>\n",
       "      <th>DayOfWeek</th>\n",
       "      <th>Hour</th>\n",
       "    </tr>\n",
       "  </thead>\n",
       "  <tbody>\n",
       "    <tr>\n",
       "      <th>0</th>\n",
       "      <td>536365</td>\n",
       "      <td>85123A</td>\n",
       "      <td>WHITE HANGING HEART T-LIGHT HOLDER</td>\n",
       "      <td>6</td>\n",
       "      <td>2010-12-01 08:26:00</td>\n",
       "      <td>2.55</td>\n",
       "      <td>17850</td>\n",
       "      <td>United Kingdom</td>\n",
       "      <td>15.3</td>\n",
       "      <td>12</td>\n",
       "      <td>1</td>\n",
       "      <td>3</td>\n",
       "      <td>8</td>\n",
       "    </tr>\n",
       "  </tbody>\n",
       "</table>\n",
       "</div>"
      ],
      "text/plain": [
       "  InvoiceNo StockCode                         Description  Quantity  \\\n",
       "0    536365    85123A  WHITE HANGING HEART T-LIGHT HOLDER         6   \n",
       "\n",
       "           InvoiceDate  UnitPrice  CustomerID         Country  Amount  Month  \\\n",
       "0  2010-12-01 08:26:00       2.55       17850  United Kingdom    15.3     12   \n",
       "\n",
       "   DayOfMonth  DayOfWeek  Hour  \n",
       "0           1          3     8  "
      ]
     },
     "execution_count": 4,
     "metadata": {},
     "output_type": "execute_result"
    }
   ],
   "source": [
    "# sales with cancellation\n",
    "df_sales.head(1)"
   ]
  },
  {
   "cell_type": "code",
   "execution_count": 5,
   "metadata": {},
   "outputs": [
    {
     "data": {
      "text/html": [
       "<div>\n",
       "<style scoped>\n",
       "    .dataframe tbody tr th:only-of-type {\n",
       "        vertical-align: middle;\n",
       "    }\n",
       "\n",
       "    .dataframe tbody tr th {\n",
       "        vertical-align: top;\n",
       "    }\n",
       "\n",
       "    .dataframe thead th {\n",
       "        text-align: right;\n",
       "    }\n",
       "</style>\n",
       "<table border=\"1\" class=\"dataframe\">\n",
       "  <thead>\n",
       "    <tr style=\"text-align: right;\">\n",
       "      <th></th>\n",
       "      <th>InvoiceNo</th>\n",
       "      <th>StockCode</th>\n",
       "      <th>Description</th>\n",
       "      <th>Quantity</th>\n",
       "      <th>InvoiceDate</th>\n",
       "      <th>UnitPrice</th>\n",
       "      <th>CustomerID</th>\n",
       "      <th>Country</th>\n",
       "      <th>Amount</th>\n",
       "      <th>Month</th>\n",
       "      <th>DayOfMonth</th>\n",
       "      <th>DayOfWeek</th>\n",
       "      <th>Hour</th>\n",
       "    </tr>\n",
       "  </thead>\n",
       "  <tbody>\n",
       "    <tr>\n",
       "      <th>0</th>\n",
       "      <td>536365</td>\n",
       "      <td>85123A</td>\n",
       "      <td>WHITE HANGING HEART T-LIGHT HOLDER</td>\n",
       "      <td>6</td>\n",
       "      <td>2010-12-01 08:26:00</td>\n",
       "      <td>2.55</td>\n",
       "      <td>17850</td>\n",
       "      <td>United Kingdom</td>\n",
       "      <td>15.30</td>\n",
       "      <td>12</td>\n",
       "      <td>1</td>\n",
       "      <td>3</td>\n",
       "      <td>8</td>\n",
       "    </tr>\n",
       "    <tr>\n",
       "      <th>1</th>\n",
       "      <td>536365</td>\n",
       "      <td>71053</td>\n",
       "      <td>WHITE METAL LANTERN</td>\n",
       "      <td>6</td>\n",
       "      <td>2010-12-01 08:26:00</td>\n",
       "      <td>3.39</td>\n",
       "      <td>17850</td>\n",
       "      <td>United Kingdom</td>\n",
       "      <td>20.34</td>\n",
       "      <td>12</td>\n",
       "      <td>1</td>\n",
       "      <td>3</td>\n",
       "      <td>8</td>\n",
       "    </tr>\n",
       "    <tr>\n",
       "      <th>2</th>\n",
       "      <td>536365</td>\n",
       "      <td>84406B</td>\n",
       "      <td>CREAM CUPID HEARTS COAT HANGER</td>\n",
       "      <td>8</td>\n",
       "      <td>2010-12-01 08:26:00</td>\n",
       "      <td>2.75</td>\n",
       "      <td>17850</td>\n",
       "      <td>United Kingdom</td>\n",
       "      <td>22.00</td>\n",
       "      <td>12</td>\n",
       "      <td>1</td>\n",
       "      <td>3</td>\n",
       "      <td>8</td>\n",
       "    </tr>\n",
       "    <tr>\n",
       "      <th>3</th>\n",
       "      <td>536365</td>\n",
       "      <td>84029G</td>\n",
       "      <td>KNITTED UNION FLAG HOT WATER BOTTLE</td>\n",
       "      <td>6</td>\n",
       "      <td>2010-12-01 08:26:00</td>\n",
       "      <td>3.39</td>\n",
       "      <td>17850</td>\n",
       "      <td>United Kingdom</td>\n",
       "      <td>20.34</td>\n",
       "      <td>12</td>\n",
       "      <td>1</td>\n",
       "      <td>3</td>\n",
       "      <td>8</td>\n",
       "    </tr>\n",
       "    <tr>\n",
       "      <th>4</th>\n",
       "      <td>536365</td>\n",
       "      <td>84029E</td>\n",
       "      <td>RED WOOLLY HOTTIE WHITE HEART.</td>\n",
       "      <td>6</td>\n",
       "      <td>2010-12-01 08:26:00</td>\n",
       "      <td>3.39</td>\n",
       "      <td>17850</td>\n",
       "      <td>United Kingdom</td>\n",
       "      <td>20.34</td>\n",
       "      <td>12</td>\n",
       "      <td>1</td>\n",
       "      <td>3</td>\n",
       "      <td>8</td>\n",
       "    </tr>\n",
       "  </tbody>\n",
       "</table>\n",
       "</div>"
      ],
      "text/plain": [
       "   InvoiceNo StockCode                          Description  Quantity  \\\n",
       "0     536365    85123A   WHITE HANGING HEART T-LIGHT HOLDER         6   \n",
       "1     536365     71053                  WHITE METAL LANTERN         6   \n",
       "2     536365    84406B       CREAM CUPID HEARTS COAT HANGER         8   \n",
       "3     536365    84029G  KNITTED UNION FLAG HOT WATER BOTTLE         6   \n",
       "4     536365    84029E       RED WOOLLY HOTTIE WHITE HEART.         6   \n",
       "\n",
       "           InvoiceDate  UnitPrice  CustomerID         Country  Amount  Month  \\\n",
       "0  2010-12-01 08:26:00       2.55       17850  United Kingdom   15.30     12   \n",
       "1  2010-12-01 08:26:00       3.39       17850  United Kingdom   20.34     12   \n",
       "2  2010-12-01 08:26:00       2.75       17850  United Kingdom   22.00     12   \n",
       "3  2010-12-01 08:26:00       3.39       17850  United Kingdom   20.34     12   \n",
       "4  2010-12-01 08:26:00       3.39       17850  United Kingdom   20.34     12   \n",
       "\n",
       "   DayOfMonth  DayOfWeek  Hour  \n",
       "0           1          3     8  \n",
       "1           1          3     8  \n",
       "2           1          3     8  \n",
       "3           1          3     8  \n",
       "4           1          3     8  "
      ]
     },
     "execution_count": 5,
     "metadata": {},
     "output_type": "execute_result"
    }
   ],
   "source": [
    "# Sales without cancellations\n",
    "df_segmentation.head(5)"
   ]
  },
  {
   "cell_type": "markdown",
   "metadata": {},
   "source": [
    "#### Cancelled and non-Cancelled sales"
   ]
  },
  {
   "cell_type": "code",
   "execution_count": 6,
   "metadata": {},
   "outputs": [
    {
     "name": "stdout",
     "output_type": "stream",
     "text": [
      "(8872, 13)\n"
     ]
    },
    {
     "data": {
      "text/plain": [
       "8872"
      ]
     },
     "execution_count": 6,
     "metadata": {},
     "output_type": "execute_result"
    }
   ],
   "source": [
    "cancelled_sales = df_sales.query('InvoiceNo.str.len()>6')\n",
    "print(cancelled_sales.shape)\n",
    "cancelled_sales.query('InvoiceNo.str[0] == \"C\"').shape[0]"
   ]
  },
  {
   "cell_type": "code",
   "execution_count": 7,
   "metadata": {},
   "outputs": [
    {
     "name": "stdout",
     "output_type": "stream",
     "text": [
      "(392491, 13)\n",
      "True\n"
     ]
    }
   ],
   "source": [
    "non_cancelled = df_sales.query('InvoiceNo.str.len()==6')\n",
    "print(non_cancelled.shape)\n",
    "print((cancelled_sales.shape[0]+non_cancelled.shape[0])==df_sales.shape[0])"
   ]
  },
  {
   "cell_type": "markdown",
   "metadata": {},
   "source": [
    "<a id='univariate'></a>\n",
    "## Univariate Exploration"
   ]
  },
  {
   "cell_type": "code",
   "execution_count": 8,
   "metadata": {},
   "outputs": [
    {
     "name": "stdout",
     "output_type": "stream",
     "text": [
      "['InvoiceNo', 'StockCode', 'Description', 'Quantity', 'InvoiceDate', 'UnitPrice', 'CustomerID', 'Country', 'Amount', 'Month', 'DayOfMonth', 'DayOfWeek', 'Hour']\n"
     ]
    }
   ],
   "source": [
    "print(df_segmentation.columns.tolist())"
   ]
  },
  {
   "cell_type": "markdown",
   "metadata": {},
   "source": [
    "### First using Segmentation data (with postive Quantity and UnitPrice)"
   ]
  },
  {
   "cell_type": "markdown",
   "metadata": {},
   "source": [
    "#### What are the total sales? (without the cancellations)"
   ]
  },
  {
   "cell_type": "code",
   "execution_count": 9,
   "metadata": {},
   "outputs": [
    {
     "name": "stdout",
     "output_type": "stream",
     "text": [
      "The total sales (without the cancellations) are [Sterling] :  8734731 Sterling\n"
     ]
    }
   ],
   "source": [
    "total_sales = df_segmentation.Amount.sum()\n",
    "print(\"The total sales (without the cancellations) are [Sterling] : \", int(total_sales), \"Sterling\")"
   ]
  },
  {
   "cell_type": "markdown",
   "metadata": {},
   "source": [
    "#### What about the amount of invoice lines in the different countries?"
   ]
  },
  {
   "cell_type": "code",
   "execution_count": 10,
   "metadata": {},
   "outputs": [
    {
     "name": "stdout",
     "output_type": "stream",
     "text": [
      "Here are the different countries for the sales : \n",
      "['United Kingdom' 'France' 'Australia' 'Netherlands' 'Germany' 'Norway'\n",
      " 'EIRE' 'Switzerland' 'Spain' 'Poland' 'Portugal' 'Italy' 'Belgium'\n",
      " 'Lithuania' 'Japan' 'Iceland' 'Channel Islands' 'Denmark' 'Cyprus'\n",
      " 'Sweden' 'Finland' 'Austria' 'Greece' 'Singapore' 'Lebanon'\n",
      " 'United Arab Emirates' 'Israel' 'Saudi Arabia' 'Czech Republic' 'Canada'\n",
      " 'Brazil' 'USA' 'European Community' 'Bahrain' 'Malta' 'RSA']\n",
      "\n",
      "Amount of different countries:  36\n"
     ]
    },
    {
     "data": {
      "text/plain": [
       "United Kingdom    89.246676\n",
       "Germany            2.210933\n",
       "France             2.051310\n",
       "EIRE               1.822875\n",
       "Spain              0.618283\n",
       "Name: Country, dtype: float64"
      ]
     },
     "execution_count": 10,
     "metadata": {},
     "output_type": "execute_result"
    }
   ],
   "source": [
    "# In which countries are the sales from this dataset made\n",
    "country_lines = ((df_segmentation.Country.value_counts()/df_segmentation.shape[0])*100)\n",
    "print(\"Here are the different countries for the sales : \")\n",
    "list_of_countries = df_segmentation.Country.unique()\n",
    "print(list_of_countries)\n",
    "print('')\n",
    "print(\"Amount of different countries: \", df_segmentation.Country.nunique())\n",
    "# 5 First countries with most sales expressed in % of total Segmentation dataset\n",
    "country_lines[:5]"
   ]
  },
  {
   "cell_type": "code",
   "execution_count": 96,
   "metadata": {},
   "outputs": [
    {
     "data": {
      "image/png": "[encoded data removed]",
      "text/plain": [
       "<Figure size 432x288 with 1 Axes>"
      ]
     },
     "metadata": {
      "needs_background": "light"
     },
     "output_type": "display_data"
    }
   ],
   "source": [
    "plt.figure(figsize = [6,4])\n",
    "country_lines[:5].plot(x='index',y='count',kind='bar',colormap='Paired')\n",
    "plt.xticks(rotation = 15)\n",
    "plt.title('The 5 Countries with the most invoice lines',fontsize=14)\n",
    "plt.ylabel('% of total invoice lines ',fontsize=14);"
   ]
  },
  {
   "cell_type": "markdown",
   "metadata": {},
   "source": [
    "> Almost 90% of the lines are for UK, what's logic, as it's a english compagny"
   ]
  },
  {
   "cell_type": "markdown",
   "metadata": {},
   "source": [
    "#### Amount of Sales volume per country"
   ]
  },
  {
   "cell_type": "code",
   "execution_count": 12,
   "metadata": {},
   "outputs": [],
   "source": [
    "country_sales = df_segmentation.groupby(['Country']).sum().Amount"
   ]
  },
  {
   "cell_type": "code",
   "execution_count": 13,
   "metadata": {},
   "outputs": [
    {
     "data": {
      "text/plain": [
       "Country\n",
       "United Kingdom    82.922068\n",
       "Netherlands        3.250121\n",
       "EIRE               2.942427\n",
       "Germany            2.351316\n",
       "France             2.104265\n",
       "Name: Amount, dtype: float64"
      ]
     },
     "execution_count": 13,
     "metadata": {},
     "output_type": "execute_result"
    }
   ],
   "source": [
    "country_sales_prct = ((country_sales.sort_values(ascending=False)/total_sales)*100)\n",
    "country_sales_prct[:5]"
   ]
  },
  {
   "cell_type": "code",
   "execution_count": 98,
   "metadata": {},
   "outputs": [
    {
     "data": {
      "image/png": "[encoded data removed]",
      "text/plain": [
       "<Figure size 432x288 with 1 Axes>"
      ]
     },
     "metadata": {
      "needs_background": "light"
     },
     "output_type": "display_data"
    }
   ],
   "source": [
    "plt.figure(figsize = [6,4])\n",
    "country_sales_prct[:5].plot(x='index',y='count',kind='bar',colormap='Paired')\n",
    "plt.xticks(rotation = 15)\n",
    "plt.title('The 5 Countries with most sales',fontsize=14)\n",
    "plt.xlabel(\"\")\n",
    "plt.ylabel('% of total sales ',fontsize=14);"
   ]
  },
  {
   "cell_type": "markdown",
   "metadata": {},
   "source": [
    "#### What's the average amount per invoice per country"
   ]
  },
  {
   "cell_type": "code",
   "execution_count": 15,
   "metadata": {},
   "outputs": [],
   "source": [
    "# Group by Country and Invoices\n",
    "country_avg_inv = df_segmentation.groupby(['Country','InvoiceNo']).mean().Amount\n",
    "\n",
    "# Compute the average amount of the \n",
    "country_avg = {}\n",
    "for country in list_of_countries:\n",
    "    country_avg[country]=country_avg_inv[country].mean()\n",
    "\n",
    "# Sort the countries by average Invoice amount\n",
    "sorted_x = sorted(country_avg.items(), key=operator.itemgetter(1), reverse=True)"
   ]
  },
  {
   "cell_type": "code",
   "execution_count": 16,
   "metadata": {},
   "outputs": [
    {
     "data": {
      "text/plain": [
       "[('Japan', 552.1535260628685),\n",
       " ('Netherlands', 199.0407118750981),\n",
       " ('Australia', 124.57190749405397),\n",
       " ('Canada', 118.99428726361357),\n",
       " ('Sweden', 111.59600749019555),\n",
       " ('Finland', 65.26850289013377),\n",
       " ('United Kingdom', 65.00015212505124),\n",
       " ('Denmark', 58.359438582689855),\n",
       " ('EIRE', 52.948618017923536),\n",
       " ('Channel Islands', 52.50805785893454)]"
      ]
     },
     "execution_count": 16,
     "metadata": {},
     "output_type": "execute_result"
    }
   ],
   "source": [
    "sorted_x[:10]"
   ]
  },
  {
   "cell_type": "code",
   "execution_count": 93,
   "metadata": {},
   "outputs": [
    {
     "data": {
      "image/png": "[encoded data removed]",
      "text/plain": [
       "<Figure size 864x360 with 1 Axes>"
      ]
     },
     "metadata": {
      "needs_background": "light"
     },
     "output_type": "display_data"
    }
   ],
   "source": [
    "plt.figure(figsize = [12,5])\n",
    "plt.bar(range(10), [val[1] for val in sorted_x[:10]], align='center')\n",
    "plt.xticks(range(10), [val[0] for val in sorted_x[:10]])\n",
    "plt.xticks(rotation=15)\n",
    "plt.title(\"Average amount per invoice per Country\")\n",
    "plt.ylabel(\"[Sterling]\",fontsize=13);"
   ]
  },
  {
   "cell_type": "markdown",
   "metadata": {},
   "source": [
    "#### What's the amount of Customers per country?"
   ]
  },
  {
   "cell_type": "code",
   "execution_count": 18,
   "metadata": {},
   "outputs": [],
   "source": [
    "customer_country = df_segmentation.groupby('Country').CustomerID.nunique().sort_values(ascending=False)"
   ]
  },
  {
   "cell_type": "code",
   "execution_count": 19,
   "metadata": {},
   "outputs": [
    {
     "data": {
      "image/png": "[encoded data removed]",
      "text/plain": [
       "<Figure size 864x360 with 1 Axes>"
      ]
     },
     "metadata": {
      "needs_background": "light"
     },
     "output_type": "display_data"
    }
   ],
   "source": [
    "plt.figure(figsize = [12,5])\n",
    "customer_country[:10].plot(x='index',y='count',kind='bar',colormap='Paired')\n",
    "plt.xticks(rotation = 15)\n",
    "plt.title('The 10 Countries with most different customers (without cancellations)')\n",
    "plt.xlabel(\"\")\n",
    "plt.ylabel('Amount of customers');"
   ]
  },
  {
   "cell_type": "code",
   "execution_count": 20,
   "metadata": {},
   "outputs": [
    {
     "data": {
      "text/plain": [
       "Country\n",
       "United Kingdom    3917\n",
       "Germany             94\n",
       "France              87\n",
       "Spain               30\n",
       "Belgium             25\n",
       "Name: CustomerID, dtype: int64"
      ]
     },
     "execution_count": 20,
     "metadata": {},
     "output_type": "execute_result"
    }
   ],
   "source": [
    "customer_country[:5]"
   ]
  },
  {
   "cell_type": "markdown",
   "metadata": {},
   "source": [
    "#### What is the distribution of the UnitPrice "
   ]
  },
  {
   "cell_type": "code",
   "execution_count": 100,
   "metadata": {},
   "outputs": [
    {
     "data": {
      "image/png": "[encoded data removed]",
      "text/plain": [
       "<Figure size 576x360 with 1 Axes>"
      ]
     },
     "metadata": {
      "needs_background": "light"
     },
     "output_type": "display_data"
    }
   ],
   "source": [
    "plt.figure(figsize = [8,5])\n",
    "bins = 10**np.arange(0,3+0.1,0.2)\n",
    "ticks = [1,3,10,30,100,300,1000]\n",
    "labels = ['{}'.format(val) for val in ticks]\n",
    "plt.hist(data = df_segmentation, x = 'UnitPrice', bins = bins)\n",
    "plt.xscale('log')\n",
    "plt.xticks(ticks,labels)\n",
    "plt.xlabel('UnitPrice [Sterling]',fontsize=14)\n",
    "plt.ylabel('Count',fontsize=14)\n",
    "plt.title('Distribution of UnitPrice (for non-cancelled orders)',fontsize=14);"
   ]
  },
  {
   "cell_type": "code",
   "execution_count": 22,
   "metadata": {},
   "outputs": [
    {
     "data": {
      "text/plain": [
       "count    390921.000000\n",
       "mean          2.874493\n",
       "std           4.285660\n",
       "min           0.001000\n",
       "25%           1.250000\n",
       "50%           1.950000\n",
       "75%           3.750000\n",
       "max         649.500000\n",
       "Name: UnitPrice, dtype: float64"
      ]
     },
     "execution_count": 22,
     "metadata": {},
     "output_type": "execute_result"
    }
   ],
   "source": [
    "df_segmentation.UnitPrice.describe()"
   ]
  },
  {
   "cell_type": "markdown",
   "metadata": {},
   "source": [
    "> - The distribution of the UnitPrice is Right skewed\n",
    "> - 75% of the UnitPrices are lower than 3.75 Sterling\n",
    "> - Most items in this dataset are of lower cost (compared to the max UnitPrice = 8142 Sterling)"
   ]
  },
  {
   "cell_type": "markdown",
   "metadata": {},
   "source": [
    "#### What's the distribution of Amount"
   ]
  },
  {
   "cell_type": "code",
   "execution_count": 23,
   "metadata": {},
   "outputs": [
    {
     "data": {
      "image/png": "[encoded data removed]",
      "text/plain": [
       "<Figure size 576x360 with 1 Axes>"
      ]
     },
     "metadata": {
      "needs_background": "light"
     },
     "output_type": "display_data"
    }
   ],
   "source": [
    "plt.figure(figsize = [8,5])\n",
    "bins = 10**np.arange(0,5.3+0.1,0.25)\n",
    "ticks = [1,3,10,30,100,300,1000,10000,100000]\n",
    "labels = ['{}'.format(val) for val in ticks]\n",
    "plt.hist(data = df_segmentation, x = 'Amount', bins = bins)\n",
    "plt.xscale('log')\n",
    "plt.xticks(ticks,labels)\n",
    "plt.xlabel('Amount [Sterling]')\n",
    "plt.ylabel('Count')\n",
    "plt.title('Distribution of Amount (for non-cancelled orders)');"
   ]
  },
  {
   "cell_type": "code",
   "execution_count": 24,
   "metadata": {},
   "outputs": [
    {
     "data": {
      "text/plain": [
       "count    390921.000000\n",
       "mean         22.343982\n",
       "std         311.023272\n",
       "min           0.001000\n",
       "25%           4.950000\n",
       "50%          11.900000\n",
       "75%          19.800000\n",
       "max      168469.600000\n",
       "Name: Amount, dtype: float64"
      ]
     },
     "execution_count": 24,
     "metadata": {},
     "output_type": "execute_result"
    }
   ],
   "source": [
    "df_segmentation.Amount.describe()"
   ]
  },
  {
   "cell_type": "markdown",
   "metadata": {},
   "source": [
    "> - 75% of the Invoice lines have an amount lower than 19.8 Sterling\n",
    "> - Max line amount of 168469 Sterling"
   ]
  },
  {
   "cell_type": "markdown",
   "metadata": {},
   "source": [
    "#### What's the distribution of the quantity?"
   ]
  },
  {
   "cell_type": "code",
   "execution_count": 109,
   "metadata": {},
   "outputs": [
    {
     "data": {
      "image/png": "[encoded data removed]",
      "text/plain": [
       "<Figure size 576x360 with 1 Axes>"
      ]
     },
     "metadata": {
      "needs_background": "light"
     },
     "output_type": "display_data"
    }
   ],
   "source": [
    "plt.figure(figsize = [8,5])\n",
    "bins = 10**np.arange(0,3.3+0.1,0.25)\n",
    "ticks = [1,3,10,30,100,300,1000]\n",
    "labels = ['{}'.format(val) for val in ticks]\n",
    "plt.hist(data = df_segmentation, x = 'Quantity', bins = bins)\n",
    "plt.xscale('log')\n",
    "plt.xticks(ticks,labels)\n",
    "plt.xlabel('Quantity',fontsize=14)\n",
    "plt.ylabel('Count',fontsize=14)\n",
    "plt.title('Distribution of Quantity (for non-cancelled orders)',fontsize=14);"
   ]
  },
  {
   "cell_type": "code",
   "execution_count": 26,
   "metadata": {},
   "outputs": [
    {
     "data": {
      "text/plain": [
       "count    390921.000000\n",
       "mean         13.148465\n",
       "std         180.860603\n",
       "min           1.000000\n",
       "25%           2.000000\n",
       "50%           6.000000\n",
       "75%          12.000000\n",
       "max       80995.000000\n",
       "Name: Quantity, dtype: float64"
      ]
     },
     "execution_count": 26,
     "metadata": {},
     "output_type": "execute_result"
    }
   ],
   "source": [
    "df_segmentation.Quantity.describe()"
   ]
  },
  {
   "cell_type": "markdown",
   "metadata": {},
   "source": [
    "#### What is the distribution of the Amount per invoice?"
   ]
  },
  {
   "cell_type": "code",
   "execution_count": 27,
   "metadata": {},
   "outputs": [],
   "source": [
    "invoice_tot = df_segmentation.groupby('InvoiceNo').sum().Amount"
   ]
  },
  {
   "cell_type": "code",
   "execution_count": 110,
   "metadata": {},
   "outputs": [
    {
     "data": {
      "image/png": "[encoded data removed]",
      "text/plain": [
       "<Figure size 576x360 with 1 Axes>"
      ]
     },
     "metadata": {
      "needs_background": "light"
     },
     "output_type": "display_data"
    }
   ],
   "source": [
    "plt.figure(figsize = [8,5])\n",
    "bins = 10**np.arange(0,5.3+0.1,0.2)\n",
    "ticks = [1,3,10,30,100,300,1000,10000,100000]\n",
    "labels = ['{}'.format(val) for val in ticks]\n",
    "invoice_tot.hist(bins = bins)\n",
    "plt.xscale('log')\n",
    "plt.xticks(ticks,labels)\n",
    "plt.xlabel('Total invoice Amount',fontsize=14)\n",
    "plt.ylabel('Count',fontsize=14)\n",
    "plt.title('Distribution of total Invoice Amount',fontsize=14);"
   ]
  },
  {
   "cell_type": "code",
   "execution_count": 29,
   "metadata": {},
   "outputs": [
    {
     "data": {
      "text/plain": [
       "count     18405.000000\n",
       "mean        474.584725\n",
       "std        1678.678780\n",
       "min           0.380000\n",
       "25%         156.850000\n",
       "50%         301.600000\n",
       "75%         463.000000\n",
       "max      168469.600000\n",
       "Name: Amount, dtype: float64"
      ]
     },
     "execution_count": 29,
     "metadata": {},
     "output_type": "execute_result"
    }
   ],
   "source": [
    "invoice_tot.describe()"
   ]
  },
  {
   "cell_type": "markdown",
   "metadata": {},
   "source": [
    "#### What's the average number of lines per Invoice?"
   ]
  },
  {
   "cell_type": "code",
   "execution_count": 30,
   "metadata": {},
   "outputs": [
    {
     "data": {
      "text/plain": [
       "count    18405.000000\n",
       "mean        21.239935\n",
       "std         24.350590\n",
       "min          1.000000\n",
       "25%          7.000000\n",
       "50%         15.000000\n",
       "75%         27.000000\n",
       "max        541.000000\n",
       "Name: Amount, dtype: float64"
      ]
     },
     "execution_count": 30,
     "metadata": {},
     "output_type": "execute_result"
    }
   ],
   "source": [
    "df_segmentation.groupby('InvoiceNo').count().Amount.describe()"
   ]
  },
  {
   "cell_type": "markdown",
   "metadata": {},
   "source": [
    "> - On the average there are 21 lines per invoice\n",
    "> -  50% of the invoices have 15 lines or less\n",
    "> - 75 % less or equal to 27"
   ]
  },
  {
   "cell_type": "markdown",
   "metadata": {},
   "source": [
    "#### How much did buy the 10 biggest customers"
   ]
  },
  {
   "cell_type": "code",
   "execution_count": 31,
   "metadata": {},
   "outputs": [],
   "source": [
    "customer_tot = df_segmentation.groupby('CustomerID').sum().Amount"
   ]
  },
  {
   "cell_type": "code",
   "execution_count": 32,
   "metadata": {},
   "outputs": [
    {
     "data": {
      "image/png": "[encoded data removed]",
      "text/plain": [
       "<Figure size 864x360 with 1 Axes>"
      ]
     },
     "metadata": {
      "needs_background": "light"
     },
     "output_type": "display_data"
    }
   ],
   "source": [
    "plt.figure(figsize = [12,5])\n",
    "customer_tot.sort_values(ascending=False)[:10].plot(x='index',y='count',kind='bar',colormap='Paired')\n",
    "plt.xticks(rotation = 15)\n",
    "plt.title('Sales to the 10 biggest customers (without cancellations)')\n",
    "plt.xlabel(\"\")\n",
    "plt.ylabel('Total Sales [Sterling]');"
   ]
  },
  {
   "cell_type": "code",
   "execution_count": 33,
   "metadata": {},
   "outputs": [
    {
     "data": {
      "image/png": "[encoded data removed]",
      "text/plain": [
       "<Figure size 864x360 with 1 Axes>"
      ]
     },
     "metadata": {
      "needs_background": "light"
     },
     "output_type": "display_data"
    }
   ],
   "source": [
    "customer_rel = (customer_tot/total_sales)*100\n",
    "plt.figure(figsize = [12,5])\n",
    "customer_rel.sort_values(ascending=False)[:10].plot(x='index',y='count',kind='bar',colormap='Paired')\n",
    "plt.xticks(rotation = 15)\n",
    "plt.title('Sales to the 10 biggest customers (without cancellations)')\n",
    "plt.xlabel(\"\")\n",
    "plt.ylabel('% of total Sales');"
   ]
  },
  {
   "cell_type": "code",
   "execution_count": 126,
   "metadata": {},
   "outputs": [
    {
     "name": "stdout",
     "output_type": "stream",
     "text": [
      "17.40063853644076\n"
     ]
    }
   ],
   "source": [
    "# Percentage of total sales, done by the 10 best customers\n",
    "print(customer_rel.sort_values(ascending=False)[:10].sum())"
   ]
  },
  {
   "cell_type": "code",
   "execution_count": 34,
   "metadata": {},
   "outputs": [
    {
     "data": {
      "text/plain": [
       "count      4331.000000\n",
       "mean       2016.793320\n",
       "std        8906.718402\n",
       "min           3.750000\n",
       "25%         303.950000\n",
       "50%         663.610000\n",
       "75%        1632.775000\n",
       "max      279138.020000\n",
       "Name: Amount, dtype: float64"
      ]
     },
     "execution_count": 34,
     "metadata": {},
     "output_type": "execute_result"
    }
   ],
   "source": [
    "customer_tot.describe()"
   ]
  },
  {
   "cell_type": "markdown",
   "metadata": {},
   "source": [
    "> - 50% of the customer buy less than 663.61 Sterling\n",
    "> - 75% less than 1632.77 Sterling"
   ]
  },
  {
   "cell_type": "markdown",
   "metadata": {},
   "source": [
    "#### What's the distribution of the sales per Month?"
   ]
  },
  {
   "cell_type": "code",
   "execution_count": 35,
   "metadata": {},
   "outputs": [],
   "source": [
    "sales_month = df_segmentation.groupby('Month').sum().Amount"
   ]
  },
  {
   "cell_type": "code",
   "execution_count": 36,
   "metadata": {},
   "outputs": [
    {
     "data": {
      "image/png": "[encoded data removed]",
      "text/plain": [
       "<Figure size 864x360 with 1 Axes>"
      ]
     },
     "metadata": {
      "needs_background": "light"
     },
     "output_type": "display_data"
    }
   ],
   "source": [
    "plt.figure(figsize = [12,5])\n",
    "sales_month.plot(x='index',y='count',kind='bar',colormap='Paired')\n",
    "plt.xticks(rotation = 0)\n",
    "plt.title('Sales distribution per month (without cancellations)')\n",
    "plt.xlabel(\"\")\n",
    "plt.ylabel('Total Sales [Sterling]');"
   ]
  },
  {
   "cell_type": "code",
   "execution_count": 142,
   "metadata": {},
   "outputs": [
    {
     "data": {
      "image/png": "[encoded data removed]",
      "text/plain": [
       "<Figure size 864x360 with 1 Axes>"
      ]
     },
     "metadata": {
      "needs_background": "light"
     },
     "output_type": "display_data"
    }
   ],
   "source": [
    "month_index = ['Jan','Feb','March','Apr','May','June','Jul','Aug','Sept','Oct','Nov','Dec']\n",
    "month_rel = (sales_month/total_sales)*100\n",
    "month_rel.index = month_index\n",
    "plt.figure(figsize = [12,5])\n",
    "month_rel.plot(x='index',y='count',kind='bar',colormap='Paired')\n",
    "plt.xticks(rotation = 0)\n",
    "plt.title('Sales distribution per month (without cancellations)',fontsize=14)\n",
    "plt.xlabel(\"\")\n",
    "plt.xticks(rotation = 15)\n",
    "plt.ylabel('% of total Sales',fontsize=14);"
   ]
  },
  {
   "cell_type": "markdown",
   "metadata": {},
   "source": [
    "#### What's the distribution of the sales per Day of Month?"
   ]
  },
  {
   "cell_type": "code",
   "execution_count": 38,
   "metadata": {},
   "outputs": [],
   "source": [
    "sales_dOm = df_segmentation.groupby('DayOfMonth').sum().Amount"
   ]
  },
  {
   "cell_type": "code",
   "execution_count": 39,
   "metadata": {},
   "outputs": [
    {
     "data": {
      "image/png": "[encoded data removed]",
      "text/plain": [
       "<Figure size 864x360 with 1 Axes>"
      ]
     },
     "metadata": {
      "needs_background": "light"
     },
     "output_type": "display_data"
    }
   ],
   "source": [
    "plt.figure(figsize = [12,5])\n",
    "sales_dOm.plot(x='index',y='count',kind='bar',colormap='Paired')\n",
    "plt.xticks(rotation = 0)\n",
    "plt.title('Sales distribution per day of Month (without cancellations)')\n",
    "plt.xlabel(\"\")\n",
    "plt.ylabel('Total Sales [Sterling]');"
   ]
  },
  {
   "cell_type": "code",
   "execution_count": 40,
   "metadata": {},
   "outputs": [
    {
     "data": {
      "image/png": "[encoded data removed]",
      "text/plain": [
       "<Figure size 864x360 with 1 Axes>"
      ]
     },
     "metadata": {
      "needs_background": "light"
     },
     "output_type": "display_data"
    }
   ],
   "source": [
    "dOm_rel = (sales_dOm/total_sales)*100\n",
    "plt.figure(figsize = [12,5])\n",
    "dOm_rel.plot(x='index',y='count',kind='bar',colormap='Paired')\n",
    "plt.xticks(rotation = 0)\n",
    "plt.title('Sales distribution per day of Month (without cancellations)')\n",
    "plt.xlabel(\"\")\n",
    "plt.ylabel('% of total Sales');"
   ]
  },
  {
   "cell_type": "markdown",
   "metadata": {},
   "source": [
    "#### What's the distribution of the sales per weekday?"
   ]
  },
  {
   "cell_type": "code",
   "execution_count": 41,
   "metadata": {},
   "outputs": [],
   "source": [
    "sales_wd  = df_segmentation.groupby('DayOfWeek').sum().Amount"
   ]
  },
  {
   "cell_type": "code",
   "execution_count": 42,
   "metadata": {},
   "outputs": [
    {
     "data": {
      "image/png": "[encoded data removed]",
      "text/plain": [
       "<Figure size 864x360 with 1 Axes>"
      ]
     },
     "metadata": {
      "needs_background": "light"
     },
     "output_type": "display_data"
    }
   ],
   "source": [
    "plt.figure(figsize = [12,5])\n",
    "sales_wd.plot(x='index',y='count',kind='bar',colormap='Paired')\n",
    "plt.xticks(rotation = 0)\n",
    "plt.title('Sales distribution per day of the week (without cancellations)')\n",
    "plt.xlabel(\"\")\n",
    "plt.ylabel('Total Sales [Sterling]');"
   ]
  },
  {
   "cell_type": "code",
   "execution_count": 144,
   "metadata": {},
   "outputs": [
    {
     "data": {
      "image/png": "[encoded data removed]",
      "text/plain": [
       "<Figure size 864x360 with 1 Axes>"
      ]
     },
     "metadata": {
      "needs_background": "light"
     },
     "output_type": "display_data"
    }
   ],
   "source": [
    "week_index = ['Monday','Tuesday','Wednesday','Thursday','Friday','Sunday']\n",
    "dOw_rel = (sales_wd/total_sales)*100\n",
    "dOw_rel.index = week_index\n",
    "plt.figure(figsize = [12,5])\n",
    "dOw_rel.plot(x='index',y='count',kind='bar',colormap='Paired')\n",
    "plt.xticks(rotation = 0)\n",
    "plt.title('Sales distribution per day of the week (without cancellations)',fontsize=14)\n",
    "plt.xlabel(\"\")\n",
    "plt.xticks(rotation = 15)\n",
    "plt.ylabel('% of total Sales',fontsize=14);"
   ]
  },
  {
   "cell_type": "markdown",
   "metadata": {},
   "source": [
    "#### What's the distribution of the sales per hour?"
   ]
  },
  {
   "cell_type": "code",
   "execution_count": 129,
   "metadata": {},
   "outputs": [],
   "source": [
    "sales_h = df_segmentation.groupby('Hour').sum().Amount"
   ]
  },
  {
   "cell_type": "code",
   "execution_count": 134,
   "metadata": {},
   "outputs": [
    {
     "data": {
      "image/png": "[encoded data removed]",
      "text/plain": [
       "<Figure size 864x360 with 1 Axes>"
      ]
     },
     "metadata": {
      "needs_background": "light"
     },
     "output_type": "display_data"
    }
   ],
   "source": [
    "plt.figure(figsize = [12,5])\n",
    "sales_h.plot(x='index',y='count',kind='bar',colormap='Paired')\n",
    "plt.xticks(rotation = 0)\n",
    "plt.title('Sales distribution per hour(without cancellations)')\n",
    "plt.xlabel(\"\")\n",
    "plt.ylabel('Total Sales [Sterling]');"
   ]
  },
  {
   "cell_type": "code",
   "execution_count": 133,
   "metadata": {},
   "outputs": [],
   "source": [
    "sales_h_rel = (sales_h/total_sales)*100"
   ]
  },
  {
   "cell_type": "code",
   "execution_count": 135,
   "metadata": {},
   "outputs": [
    {
     "data": {
      "image/png": "[encoded data removed]",
      "text/plain": [
       "<Figure size 864x360 with 1 Axes>"
      ]
     },
     "metadata": {
      "needs_background": "light"
     },
     "output_type": "display_data"
    }
   ],
   "source": [
    "plt.figure(figsize = [12,5])\n",
    "sales_h_rel.plot(x='index',y='count',kind='bar',colormap='Paired')\n",
    "plt.xticks(rotation = 0)\n",
    "plt.title('Sales distribution per hour(without cancellations)',fontsize=14)\n",
    "plt.xlabel(\"\")\n",
    "plt.ylabel('% of total Sales',fontsize=14);"
   ]
  },
  {
   "cell_type": "markdown",
   "metadata": {},
   "source": [
    "### Cancelled Sales"
   ]
  },
  {
   "cell_type": "markdown",
   "metadata": {},
   "source": [
    "#### What's the total amount of cancelled sales"
   ]
  },
  {
   "cell_type": "code",
   "execution_count": 136,
   "metadata": {},
   "outputs": [
    {
     "name": "stdout",
     "output_type": "stream",
     "text": [
      "The total amount of cancelled sales [Sterling] :  -608689.47\n"
     ]
    }
   ],
   "source": [
    "total_cancelled = cancelled_sales.Amount.sum()\n",
    "print(\"The total amount of cancelled sales [Sterling] : \", total_cancelled)"
   ]
  },
  {
   "cell_type": "markdown",
   "metadata": {},
   "source": [
    "#### What's the amount of cancelled sales per country?"
   ]
  },
  {
   "cell_type": "code",
   "execution_count": 47,
   "metadata": {},
   "outputs": [],
   "source": [
    "canc_country = cancelled_sales.groupby('Country').sum().Amount"
   ]
  },
  {
   "cell_type": "code",
   "execution_count": 48,
   "metadata": {},
   "outputs": [
    {
     "data": {
      "image/png": "[encoded data removed]",
      "text/plain": [
       "<Figure size 864x360 with 1 Axes>"
      ]
     },
     "metadata": {
      "needs_background": "light"
     },
     "output_type": "display_data"
    }
   ],
   "source": [
    "plt.figure(figsize = [12,5])\n",
    "canc_country.sort_values()[:5].plot(x='index',y='count',kind='bar',colormap='Paired')\n",
    "plt.xticks(rotation = 0)\n",
    "plt.title('Cancelled sales per Country')\n",
    "plt.xlabel(\"\")\n",
    "plt.ylabel('Total Sales [Sterling]');"
   ]
  },
  {
   "cell_type": "markdown",
   "metadata": {},
   "source": [
    "#### What's the amount of cancelled sales per Month?"
   ]
  },
  {
   "cell_type": "code",
   "execution_count": 49,
   "metadata": {},
   "outputs": [],
   "source": [
    "canc_month = cancelled_sales.groupby('Month').sum().Amount"
   ]
  },
  {
   "cell_type": "code",
   "execution_count": 50,
   "metadata": {},
   "outputs": [
    {
     "data": {
      "image/png": "[encoded data removed]",
      "text/plain": [
       "<Figure size 864x360 with 1 Axes>"
      ]
     },
     "metadata": {
      "needs_background": "light"
     },
     "output_type": "display_data"
    }
   ],
   "source": [
    "plt.figure(figsize = [12,5])\n",
    "canc_month.plot(x='index',y='count',kind='bar',colormap='Paired')\n",
    "plt.xticks(rotation = 0)\n",
    "plt.title('Cancelled sales per Month')\n",
    "plt.xlabel(\"\")\n",
    "plt.ylabel('Total Sales [Sterling]');"
   ]
  },
  {
   "cell_type": "code",
   "execution_count": 51,
   "metadata": {},
   "outputs": [],
   "source": [
    "rel_month = (canc_month / sales_month )*100"
   ]
  },
  {
   "cell_type": "code",
   "execution_count": 145,
   "metadata": {},
   "outputs": [
    {
     "data": {
      "image/png": "[encoded data removed]",
      "text/plain": [
       "<Figure size 864x360 with 1 Axes>"
      ]
     },
     "metadata": {
      "needs_background": "light"
     },
     "output_type": "display_data"
    }
   ],
   "source": [
    "month_index = ['Jan','Feb','March','Apr','May','June','Jul','Aug','Sept','Oct','Nov','Dec']\n",
    "plt.figure(figsize = [12,5])\n",
    "rel_month.index = month_index\n",
    "rel_month.plot(x='index',y='count',kind='bar',colormap='Paired')\n",
    "plt.xticks(rotation = 0)\n",
    "plt.title('Percentage of cancelled sales per Month (vs Month sales)',fontsize=14)\n",
    "plt.xlabel(\"\")\n",
    "plt.xticks(rotation = 15)\n",
    "plt.ylabel('Total Sales [%]',fontsize=14);"
   ]
  },
  {
   "cell_type": "markdown",
   "metadata": {},
   "source": [
    "#### What's the amount of cancelled sales per Day of Week?"
   ]
  },
  {
   "cell_type": "code",
   "execution_count": 53,
   "metadata": {},
   "outputs": [],
   "source": [
    "canc_dOw = cancelled_sales.groupby('DayOfWeek').sum().Amount"
   ]
  },
  {
   "cell_type": "code",
   "execution_count": 54,
   "metadata": {},
   "outputs": [],
   "source": [
    "rel_dOw = (canc_dOw/sales_wd)*100"
   ]
  },
  {
   "cell_type": "code",
   "execution_count": 55,
   "metadata": {},
   "outputs": [
    {
     "data": {
      "image/png": "[encoded data removed]",
      "text/plain": [
       "<Figure size 864x360 with 1 Axes>"
      ]
     },
     "metadata": {
      "needs_background": "light"
     },
     "output_type": "display_data"
    }
   ],
   "source": [
    "plt.figure(figsize = [12,5])\n",
    "rel_dOw.plot(x='index',y='count',kind='bar',colormap='Paired')\n",
    "plt.xticks(rotation = 0)\n",
    "plt.title('Percentage of cancelled sales per Day of Week (vs Day of week sales)')\n",
    "plt.xlabel(\"\")\n",
    "plt.ylabel('Total Sales [%]');"
   ]
  },
  {
   "cell_type": "markdown",
   "metadata": {},
   "source": [
    "<a id='multivariate'></a>\n",
    "## Multivariate Exploration\n",
    "<a href=\"#table\">back to content table</a>"
   ]
  },
  {
   "cell_type": "code",
   "execution_count": 56,
   "metadata": {},
   "outputs": [
    {
     "name": "stdout",
     "output_type": "stream",
     "text": [
      "['InvoiceNo', 'StockCode', 'Description', 'Quantity', 'InvoiceDate', 'UnitPrice', 'CustomerID', 'Country', 'Amount', 'Month', 'DayOfMonth', 'DayOfWeek', 'Hour']\n"
     ]
    }
   ],
   "source": [
    "print(df_segmentation.columns.tolist())"
   ]
  },
  {
   "cell_type": "code",
   "execution_count": 57,
   "metadata": {},
   "outputs": [
    {
     "data": {
      "image/png": "[encoded data removed]",
      "text/plain": [
       "<Figure size 1260x1260 with 56 Axes>"
      ]
     },
     "metadata": {
      "needs_background": "light"
     },
     "output_type": "display_data"
    }
   ],
   "source": [
    "# plot matrix: sample 500 movies so that plots are clearer and\n",
    "# they render faster\n",
    "\n",
    "scatter_col = ['Quantity', 'UnitPrice', 'Amount','Month', 'DayOfMonth', 'DayOfWeek', 'Hour']\n",
    "df_samp = df_segmentation.sample(500)\n",
    "\n",
    "g = sb.PairGrid(data=df_samp, vars=scatter_col)\n",
    "g = g.map_diag(plt.hist,bins=50)\n",
    "g.map_offdiag(plt.scatter);"
   ]
  },
  {
   "cell_type": "markdown",
   "metadata": {},
   "source": [
    "<a id='RFM'></a>\n",
    "## RFM Scores\n",
    "<a href=\"#table\">back to content table</a>"
   ]
  },
  {
   "cell_type": "markdown",
   "metadata": {},
   "source": [
    "> - **RECENCY (R):** Days since last purchase\n",
    "> - **FREQUENCY (F):** Total number of purchases\n",
    "> - **MONETARY VALUE (M):** Total money this customer spent"
   ]
  },
  {
   "cell_type": "markdown",
   "metadata": {},
   "source": [
    "##### Code"
   ]
  },
  {
   "cell_type": "code",
   "execution_count": 58,
   "metadata": {},
   "outputs": [
    {
     "name": "stdout",
     "output_type": "stream",
     "text": [
      "2011-12-09 12:50:00\n"
     ]
    }
   ],
   "source": [
    "df_segmentation['InvoiceDate'] = pd.to_datetime(df_segmentation['InvoiceDate'])\n",
    "last_day_df = df_segmentation.InvoiceDate.max()\n",
    "print(last_day_df)"
   ]
  },
  {
   "cell_type": "code",
   "execution_count": 59,
   "metadata": {},
   "outputs": [],
   "source": [
    "# Reference for computation of Recency\n",
    "TODAY = dt.datetime(2011,12,10)"
   ]
  },
  {
   "cell_type": "code",
   "execution_count": 60,
   "metadata": {},
   "outputs": [],
   "source": [
    "agg_rule = {'InvoiceDate': lambda x: (TODAY - x.max()).days, 'InvoiceNo': lambda x: len(x),\n",
    "            'Amount': lambda x: x.sum()}\n",
    "\n",
    "rfm_score = df_segmentation.groupby('CustomerID').agg(agg_rule)"
   ]
  },
  {
   "cell_type": "code",
   "execution_count": 61,
   "metadata": {},
   "outputs": [],
   "source": [
    "rfm_score.columns = [\"R\",\"F\",\"M\"]"
   ]
  },
  {
   "cell_type": "code",
   "execution_count": 62,
   "metadata": {},
   "outputs": [
    {
     "name": "stdout",
     "output_type": "stream",
     "text": [
      "4331\n"
     ]
    },
    {
     "data": {
      "text/html": [
       "<div>\n",
       "<style scoped>\n",
       "    .dataframe tbody tr th:only-of-type {\n",
       "        vertical-align: middle;\n",
       "    }\n",
       "\n",
       "    .dataframe tbody tr th {\n",
       "        vertical-align: top;\n",
       "    }\n",
       "\n",
       "    .dataframe thead th {\n",
       "        text-align: right;\n",
       "    }\n",
       "</style>\n",
       "<table border=\"1\" class=\"dataframe\">\n",
       "  <thead>\n",
       "    <tr style=\"text-align: right;\">\n",
       "      <th></th>\n",
       "      <th>R</th>\n",
       "      <th>F</th>\n",
       "      <th>M</th>\n",
       "    </tr>\n",
       "    <tr>\n",
       "      <th>CustomerID</th>\n",
       "      <th></th>\n",
       "      <th></th>\n",
       "      <th></th>\n",
       "    </tr>\n",
       "  </thead>\n",
       "  <tbody>\n",
       "    <tr>\n",
       "      <th>12346</th>\n",
       "      <td>325</td>\n",
       "      <td>1</td>\n",
       "      <td>77183.60</td>\n",
       "    </tr>\n",
       "    <tr>\n",
       "      <th>12347</th>\n",
       "      <td>2</td>\n",
       "      <td>182</td>\n",
       "      <td>4310.00</td>\n",
       "    </tr>\n",
       "    <tr>\n",
       "      <th>12348</th>\n",
       "      <td>75</td>\n",
       "      <td>27</td>\n",
       "      <td>1437.24</td>\n",
       "    </tr>\n",
       "  </tbody>\n",
       "</table>\n",
       "</div>"
      ],
      "text/plain": [
       "              R    F         M\n",
       "CustomerID                    \n",
       "12346       325    1  77183.60\n",
       "12347         2  182   4310.00\n",
       "12348        75   27   1437.24"
      ]
     },
     "execution_count": 62,
     "metadata": {},
     "output_type": "execute_result"
    }
   ],
   "source": [
    "print(rfm_score.shape[0])\n",
    "rfm_score.head(3)"
   ]
  },
  {
   "cell_type": "markdown",
   "metadata": {},
   "source": [
    "##### Test"
   ]
  },
  {
   "cell_type": "code",
   "execution_count": 63,
   "metadata": {},
   "outputs": [
    {
     "name": "stdout",
     "output_type": "stream",
     "text": [
      "Last invoice of customer 12348 was on :  2011-09-25 13:13:00\n",
      "Amount of days since last invoice : 75\n",
      "Total amount of purchases for customer 12348:  27\n",
      "NB: Amount of distinct invoices:  4\n",
      "Total amount purchased by customer 12348:  1437.24\n"
     ]
    }
   ],
   "source": [
    "last_inv_date = df_segmentation.query('CustomerID==12348').InvoiceDate.max()\n",
    "print(\"Last invoice of customer 12348 was on : \",last_inv_date)\n",
    "print(\"Amount of days since last invoice :\", (TODAY - last_inv_date).days)\n",
    "print(\"Total amount of purchases for customer 12348: \",\n",
    "      df_segmentation.query('CustomerID==12348').InvoiceNo.shape[0])\n",
    "print(\"NB: Amount of distinct invoices: \",df_segmentation.query('CustomerID==12348').InvoiceNo.nunique() )\n",
    "print(\"Total amount purchased by customer 12348: \",df_segmentation.query('CustomerID==12348').Amount.sum())"
   ]
  },
  {
   "cell_type": "markdown",
   "metadata": {},
   "source": [
    "### Split the RFM scores using the quantiles"
   ]
  },
  {
   "cell_type": "markdown",
   "metadata": {},
   "source": [
    "> - The goal is to split **R,F and M** each in 4 parts (from 1 to 4, **1 being the most interesting** and 4 the less\n",
    "with regards to the e-commerce compagny)\n",
    "> - To make this separation in 4, we will use the (25%,50% and 75% quantiles)"
   ]
  },
  {
   "cell_type": "code",
   "execution_count": 64,
   "metadata": {},
   "outputs": [
    {
     "data": {
      "text/html": [
       "<div>\n",
       "<style scoped>\n",
       "    .dataframe tbody tr th:only-of-type {\n",
       "        vertical-align: middle;\n",
       "    }\n",
       "\n",
       "    .dataframe tbody tr th {\n",
       "        vertical-align: top;\n",
       "    }\n",
       "\n",
       "    .dataframe thead th {\n",
       "        text-align: right;\n",
       "    }\n",
       "</style>\n",
       "<table border=\"1\" class=\"dataframe\">\n",
       "  <thead>\n",
       "    <tr style=\"text-align: right;\">\n",
       "      <th></th>\n",
       "      <th>R</th>\n",
       "      <th>F</th>\n",
       "      <th>M</th>\n",
       "    </tr>\n",
       "  </thead>\n",
       "  <tbody>\n",
       "    <tr>\n",
       "      <th>0.25</th>\n",
       "      <td>17.0</td>\n",
       "      <td>17.0</td>\n",
       "      <td>303.950</td>\n",
       "    </tr>\n",
       "    <tr>\n",
       "      <th>0.50</th>\n",
       "      <td>50.0</td>\n",
       "      <td>41.0</td>\n",
       "      <td>663.610</td>\n",
       "    </tr>\n",
       "    <tr>\n",
       "      <th>0.75</th>\n",
       "      <td>142.0</td>\n",
       "      <td>98.0</td>\n",
       "      <td>1632.775</td>\n",
       "    </tr>\n",
       "  </tbody>\n",
       "</table>\n",
       "</div>"
      ],
      "text/plain": [
       "          R     F         M\n",
       "0.25   17.0  17.0   303.950\n",
       "0.50   50.0  41.0   663.610\n",
       "0.75  142.0  98.0  1632.775"
      ]
     },
     "execution_count": 64,
     "metadata": {},
     "output_type": "execute_result"
    }
   ],
   "source": [
    "quantiles = rfm_score.quantile(q=[0.25,0.5,0.75])\n",
    "quantiles"
   ]
  },
  {
   "cell_type": "markdown",
   "metadata": {},
   "source": [
    "> - **The lower R** (=customer bought not long ago), the better => so category 1 should be if < q25% (4 if > q75%)\n",
    "> - **The higher F** (=customer buys more often) and **the higher M** (=customer spends more), the better => category 1 would be for if >q75%"
   ]
  },
  {
   "cell_type": "markdown",
   "metadata": {},
   "source": [
    "##### Code"
   ]
  },
  {
   "cell_type": "code",
   "execution_count": 65,
   "metadata": {},
   "outputs": [],
   "source": [
    "def Rgroup(x):\n",
    "    if x <= quantiles['R'].iloc[0]:\n",
    "        return 1\n",
    "    elif x <= quantiles['R'].iloc[1]:\n",
    "        return 2\n",
    "    elif x <= quantiles['R'].iloc[2]: \n",
    "        return 3\n",
    "    else:\n",
    "        return 4"
   ]
  },
  {
   "cell_type": "code",
   "execution_count": 66,
   "metadata": {},
   "outputs": [],
   "source": [
    "def FMgroup(x,type):\n",
    "    if x <= quantiles[type].iloc[0]:\n",
    "        return 4\n",
    "    elif x <= quantiles[type].iloc[1]:\n",
    "        return 3\n",
    "    elif x <= quantiles[type].iloc[2]: \n",
    "        return 2\n",
    "    else:\n",
    "        return 1"
   ]
  },
  {
   "cell_type": "code",
   "execution_count": 67,
   "metadata": {},
   "outputs": [
    {
     "data": {
      "text/html": [
       "<div>\n",
       "<style scoped>\n",
       "    .dataframe tbody tr th:only-of-type {\n",
       "        vertical-align: middle;\n",
       "    }\n",
       "\n",
       "    .dataframe tbody tr th {\n",
       "        vertical-align: top;\n",
       "    }\n",
       "\n",
       "    .dataframe thead th {\n",
       "        text-align: right;\n",
       "    }\n",
       "</style>\n",
       "<table border=\"1\" class=\"dataframe\">\n",
       "  <thead>\n",
       "    <tr style=\"text-align: right;\">\n",
       "      <th></th>\n",
       "      <th>R</th>\n",
       "      <th>F</th>\n",
       "      <th>M</th>\n",
       "    </tr>\n",
       "    <tr>\n",
       "      <th>CustomerID</th>\n",
       "      <th></th>\n",
       "      <th></th>\n",
       "      <th></th>\n",
       "    </tr>\n",
       "  </thead>\n",
       "  <tbody>\n",
       "    <tr>\n",
       "      <th>12346</th>\n",
       "      <td>325</td>\n",
       "      <td>1</td>\n",
       "      <td>77183.6</td>\n",
       "    </tr>\n",
       "  </tbody>\n",
       "</table>\n",
       "</div>"
      ],
      "text/plain": [
       "              R  F        M\n",
       "CustomerID                 \n",
       "12346       325  1  77183.6"
      ]
     },
     "execution_count": 67,
     "metadata": {},
     "output_type": "execute_result"
    }
   ],
   "source": [
    "rfm_segmentation = rfm_score\n",
    "rfm_segmentation.head(1)"
   ]
  },
  {
   "cell_type": "code",
   "execution_count": 68,
   "metadata": {},
   "outputs": [],
   "source": [
    "rfm_segmentation['R_segments'] = rfm_segmentation['R'].apply(Rgroup)"
   ]
  },
  {
   "cell_type": "code",
   "execution_count": 69,
   "metadata": {},
   "outputs": [],
   "source": [
    "rfm_segmentation['F_segments'] = rfm_segmentation['F'].apply(FMgroup,args=('F'))\n",
    "rfm_segmentation['M_segments'] = rfm_segmentation['M'].apply(FMgroup,args=('M'))"
   ]
  },
  {
   "cell_type": "markdown",
   "metadata": {},
   "source": [
    "##### Test"
   ]
  },
  {
   "cell_type": "code",
   "execution_count": 70,
   "metadata": {},
   "outputs": [
    {
     "name": "stdout",
     "output_type": "stream",
     "text": [
      "          R     F         M\n",
      "0.25   17.0  17.0   303.950\n",
      "0.50   50.0  41.0   663.610\n",
      "0.75  142.0  98.0  1632.775\n"
     ]
    },
    {
     "data": {
      "text/html": [
       "<div>\n",
       "<style scoped>\n",
       "    .dataframe tbody tr th:only-of-type {\n",
       "        vertical-align: middle;\n",
       "    }\n",
       "\n",
       "    .dataframe tbody tr th {\n",
       "        vertical-align: top;\n",
       "    }\n",
       "\n",
       "    .dataframe thead th {\n",
       "        text-align: right;\n",
       "    }\n",
       "</style>\n",
       "<table border=\"1\" class=\"dataframe\">\n",
       "  <thead>\n",
       "    <tr style=\"text-align: right;\">\n",
       "      <th></th>\n",
       "      <th>R</th>\n",
       "      <th>F</th>\n",
       "      <th>M</th>\n",
       "      <th>R_segments</th>\n",
       "      <th>F_segments</th>\n",
       "      <th>M_segments</th>\n",
       "    </tr>\n",
       "    <tr>\n",
       "      <th>CustomerID</th>\n",
       "      <th></th>\n",
       "      <th></th>\n",
       "      <th></th>\n",
       "      <th></th>\n",
       "      <th></th>\n",
       "      <th></th>\n",
       "    </tr>\n",
       "  </thead>\n",
       "  <tbody>\n",
       "    <tr>\n",
       "      <th>12346</th>\n",
       "      <td>325</td>\n",
       "      <td>1</td>\n",
       "      <td>77183.60</td>\n",
       "      <td>4</td>\n",
       "      <td>4</td>\n",
       "      <td>1</td>\n",
       "    </tr>\n",
       "    <tr>\n",
       "      <th>12347</th>\n",
       "      <td>2</td>\n",
       "      <td>182</td>\n",
       "      <td>4310.00</td>\n",
       "      <td>1</td>\n",
       "      <td>1</td>\n",
       "      <td>1</td>\n",
       "    </tr>\n",
       "    <tr>\n",
       "      <th>12348</th>\n",
       "      <td>75</td>\n",
       "      <td>27</td>\n",
       "      <td>1437.24</td>\n",
       "      <td>3</td>\n",
       "      <td>3</td>\n",
       "      <td>2</td>\n",
       "    </tr>\n",
       "  </tbody>\n",
       "</table>\n",
       "</div>"
      ],
      "text/plain": [
       "              R    F         M  R_segments  F_segments  M_segments\n",
       "CustomerID                                                        \n",
       "12346       325    1  77183.60           4           4           1\n",
       "12347         2  182   4310.00           1           1           1\n",
       "12348        75   27   1437.24           3           3           2"
      ]
     },
     "execution_count": 70,
     "metadata": {},
     "output_type": "execute_result"
    }
   ],
   "source": [
    "print(quantiles)\n",
    "rfm_segmentation.head(3)"
   ]
  },
  {
   "cell_type": "markdown",
   "metadata": {},
   "source": [
    "#### Let's group the different segments in 1 column"
   ]
  },
  {
   "cell_type": "code",
   "execution_count": 71,
   "metadata": {},
   "outputs": [],
   "source": [
    "rfm_segmentation['RFM_score'] = rfm_segmentation['R_segments']*100 + rfm_segmentation['F_segments']*10\\\n",
    "                                + rfm_segmentation['M_segments']\n",
    "            "
   ]
  },
  {
   "cell_type": "code",
   "execution_count": 72,
   "metadata": {},
   "outputs": [],
   "source": [
    "# for ease of manipulation afterwards, conversion of RFM_score into String values\n",
    "rfm_segmentation['RFM_score'] = rfm_segmentation['RFM_score'].astype(str)"
   ]
  },
  {
   "cell_type": "code",
   "execution_count": 73,
   "metadata": {},
   "outputs": [
    {
     "name": "stdout",
     "output_type": "stream",
     "text": [
      "441\n",
      "4\n"
     ]
    },
    {
     "data": {
      "text/html": [
       "<div>\n",
       "<style scoped>\n",
       "    .dataframe tbody tr th:only-of-type {\n",
       "        vertical-align: middle;\n",
       "    }\n",
       "\n",
       "    .dataframe tbody tr th {\n",
       "        vertical-align: top;\n",
       "    }\n",
       "\n",
       "    .dataframe thead th {\n",
       "        text-align: right;\n",
       "    }\n",
       "</style>\n",
       "<table border=\"1\" class=\"dataframe\">\n",
       "  <thead>\n",
       "    <tr style=\"text-align: right;\">\n",
       "      <th></th>\n",
       "      <th>R</th>\n",
       "      <th>F</th>\n",
       "      <th>M</th>\n",
       "      <th>R_segments</th>\n",
       "      <th>F_segments</th>\n",
       "      <th>M_segments</th>\n",
       "      <th>RFM_score</th>\n",
       "    </tr>\n",
       "    <tr>\n",
       "      <th>CustomerID</th>\n",
       "      <th></th>\n",
       "      <th></th>\n",
       "      <th></th>\n",
       "      <th></th>\n",
       "      <th></th>\n",
       "      <th></th>\n",
       "      <th></th>\n",
       "    </tr>\n",
       "  </thead>\n",
       "  <tbody>\n",
       "    <tr>\n",
       "      <th>12346</th>\n",
       "      <td>325</td>\n",
       "      <td>1</td>\n",
       "      <td>77183.60</td>\n",
       "      <td>4</td>\n",
       "      <td>4</td>\n",
       "      <td>1</td>\n",
       "      <td>441</td>\n",
       "    </tr>\n",
       "    <tr>\n",
       "      <th>12347</th>\n",
       "      <td>2</td>\n",
       "      <td>182</td>\n",
       "      <td>4310.00</td>\n",
       "      <td>1</td>\n",
       "      <td>1</td>\n",
       "      <td>1</td>\n",
       "      <td>111</td>\n",
       "    </tr>\n",
       "    <tr>\n",
       "      <th>12348</th>\n",
       "      <td>75</td>\n",
       "      <td>27</td>\n",
       "      <td>1437.24</td>\n",
       "      <td>3</td>\n",
       "      <td>3</td>\n",
       "      <td>2</td>\n",
       "      <td>332</td>\n",
       "    </tr>\n",
       "    <tr>\n",
       "      <th>12349</th>\n",
       "      <td>18</td>\n",
       "      <td>72</td>\n",
       "      <td>1457.55</td>\n",
       "      <td>2</td>\n",
       "      <td>2</td>\n",
       "      <td>2</td>\n",
       "      <td>222</td>\n",
       "    </tr>\n",
       "    <tr>\n",
       "      <th>12350</th>\n",
       "      <td>310</td>\n",
       "      <td>16</td>\n",
       "      <td>294.40</td>\n",
       "      <td>4</td>\n",
       "      <td>4</td>\n",
       "      <td>4</td>\n",
       "      <td>444</td>\n",
       "    </tr>\n",
       "  </tbody>\n",
       "</table>\n",
       "</div>"
      ],
      "text/plain": [
       "              R    F         M  R_segments  F_segments  M_segments RFM_score\n",
       "CustomerID                                                                  \n",
       "12346       325    1  77183.60           4           4           1       441\n",
       "12347         2  182   4310.00           1           1           1       111\n",
       "12348        75   27   1437.24           3           3           2       332\n",
       "12349        18   72   1457.55           2           2           2       222\n",
       "12350       310   16    294.40           4           4           4       444"
      ]
     },
     "execution_count": 73,
     "metadata": {},
     "output_type": "execute_result"
    }
   ],
   "source": [
    "# Test\n",
    "print(rfm_segmentation.iloc[0,-1])\n",
    "print(rfm_segmentation.iloc[0,-1][0])\n",
    "rfm_segmentation.head(5)"
   ]
  },
  {
   "cell_type": "markdown",
   "metadata": {},
   "source": [
    "##### Top 5 best customers "
   ]
  },
  {
   "cell_type": "code",
   "execution_count": 74,
   "metadata": {},
   "outputs": [
    {
     "data": {
      "text/html": [
       "<div>\n",
       "<style scoped>\n",
       "    .dataframe tbody tr th:only-of-type {\n",
       "        vertical-align: middle;\n",
       "    }\n",
       "\n",
       "    .dataframe tbody tr th {\n",
       "        vertical-align: top;\n",
       "    }\n",
       "\n",
       "    .dataframe thead th {\n",
       "        text-align: right;\n",
       "    }\n",
       "</style>\n",
       "<table border=\"1\" class=\"dataframe\">\n",
       "  <thead>\n",
       "    <tr style=\"text-align: right;\">\n",
       "      <th></th>\n",
       "      <th>R</th>\n",
       "      <th>F</th>\n",
       "      <th>M</th>\n",
       "      <th>R_segments</th>\n",
       "      <th>F_segments</th>\n",
       "      <th>M_segments</th>\n",
       "      <th>RFM_score</th>\n",
       "    </tr>\n",
       "    <tr>\n",
       "      <th>CustomerID</th>\n",
       "      <th></th>\n",
       "      <th></th>\n",
       "      <th></th>\n",
       "      <th></th>\n",
       "      <th></th>\n",
       "      <th></th>\n",
       "      <th></th>\n",
       "    </tr>\n",
       "  </thead>\n",
       "  <tbody>\n",
       "    <tr>\n",
       "      <th>14646</th>\n",
       "      <td>1</td>\n",
       "      <td>2060</td>\n",
       "      <td>279138.02</td>\n",
       "      <td>1</td>\n",
       "      <td>1</td>\n",
       "      <td>1</td>\n",
       "      <td>111</td>\n",
       "    </tr>\n",
       "    <tr>\n",
       "      <th>18102</th>\n",
       "      <td>0</td>\n",
       "      <td>431</td>\n",
       "      <td>259657.30</td>\n",
       "      <td>1</td>\n",
       "      <td>1</td>\n",
       "      <td>1</td>\n",
       "      <td>111</td>\n",
       "    </tr>\n",
       "    <tr>\n",
       "      <th>17450</th>\n",
       "      <td>8</td>\n",
       "      <td>336</td>\n",
       "      <td>194390.79</td>\n",
       "      <td>1</td>\n",
       "      <td>1</td>\n",
       "      <td>1</td>\n",
       "      <td>111</td>\n",
       "    </tr>\n",
       "    <tr>\n",
       "      <th>14911</th>\n",
       "      <td>1</td>\n",
       "      <td>5584</td>\n",
       "      <td>136161.83</td>\n",
       "      <td>1</td>\n",
       "      <td>1</td>\n",
       "      <td>1</td>\n",
       "      <td>111</td>\n",
       "    </tr>\n",
       "    <tr>\n",
       "      <th>14156</th>\n",
       "      <td>9</td>\n",
       "      <td>1382</td>\n",
       "      <td>116560.08</td>\n",
       "      <td>1</td>\n",
       "      <td>1</td>\n",
       "      <td>1</td>\n",
       "      <td>111</td>\n",
       "    </tr>\n",
       "  </tbody>\n",
       "</table>\n",
       "</div>"
      ],
      "text/plain": [
       "            R     F          M  R_segments  F_segments  M_segments RFM_score\n",
       "CustomerID                                                                  \n",
       "14646       1  2060  279138.02           1           1           1       111\n",
       "18102       0   431  259657.30           1           1           1       111\n",
       "17450       8   336  194390.79           1           1           1       111\n",
       "14911       1  5584  136161.83           1           1           1       111\n",
       "14156       9  1382  116560.08           1           1           1       111"
      ]
     },
     "execution_count": 74,
     "metadata": {},
     "output_type": "execute_result"
    }
   ],
   "source": [
    "rfm_segmentation.query('RFM_score==\"111\"').sort_values(by='M',ascending=False).head(5)"
   ]
  },
  {
   "cell_type": "markdown",
   "metadata": {},
   "source": [
    "##### Customer Segments"
   ]
  },
  {
   "cell_type": "markdown",
   "metadata": {},
   "source": [
    "> based on https://towardsdatascience.com/find-your-best-customers-with-customer-segmentation-in-python-61d602f9eee6\n",
    "we'll cluster the our Customer into 8 segments\n",
    " -  **Best Customers: 111**, Bought most recently and most often, and spend the most\n",
    " -  **Loyal Customers: X1X**, Buy most frequently\n",
    " -  **Big Spenders: XX1**, Spend the most\n",
    " -  **Almost Lost: 311**, Haven't purchased for some time, but purchased frequently and spend the most\n",
    " -  **Lost Customers: 411**, Haven't purchased for some time, but purchased frequently and spend the most\n",
    " -  **Lost Cheap Customers: 444**, Last purchased long ago, purchased few, and spend little"
   ]
  },
  {
   "cell_type": "markdown",
   "metadata": {},
   "source": [
    "### Before exporting rfm_segmentation, adding extra info"
   ]
  },
  {
   "cell_type": "code",
   "execution_count": 75,
   "metadata": {},
   "outputs": [
    {
     "name": "stdout",
     "output_type": "stream",
     "text": [
      "['R', 'F', 'M', 'R_segments', 'F_segments', 'M_segments', 'RFM_score']\n",
      "['InvoiceNo', 'StockCode', 'Description', 'Quantity', 'InvoiceDate', 'UnitPrice', 'CustomerID', 'Country', 'Amount', 'Month', 'DayOfMonth', 'DayOfWeek', 'Hour']\n"
     ]
    }
   ],
   "source": [
    "print(rfm_segmentation.columns.tolist())\n",
    "print(df_segmentation.columns.tolist())"
   ]
  },
  {
   "cell_type": "markdown",
   "metadata": {},
   "source": [
    "#### Add the country"
   ]
  },
  {
   "cell_type": "code",
   "execution_count": 76,
   "metadata": {},
   "outputs": [
    {
     "data": {
      "text/plain": [
       "CustomerID\n",
       "12346    United Kingdom\n",
       "12347           Iceland\n",
       "12348           Finland\n",
       "Name: Country, dtype: object"
      ]
     },
     "execution_count": 76,
     "metadata": {},
     "output_type": "execute_result"
    }
   ],
   "source": [
    "# Customer vs Country\n",
    "country_link = df_segmentation.groupby('CustomerID')['Country'].first()\n",
    "country_link.head(3)"
   ]
  },
  {
   "cell_type": "code",
   "execution_count": 77,
   "metadata": {},
   "outputs": [
    {
     "name": "stdout",
     "output_type": "stream",
     "text": [
      "(4331, 8)\n"
     ]
    }
   ],
   "source": [
    "# reset index of rfm_segmentation\n",
    "rfm_index = rfm_segmentation.copy()\n",
    "rfm_index = rfm_index.reset_index()\n",
    "print(rfm_index.shape)"
   ]
  },
  {
   "cell_type": "code",
   "execution_count": 78,
   "metadata": {},
   "outputs": [],
   "source": [
    "rfm_index['Country'] =  rfm_index.CustomerID.apply(lambda x: country_link.loc[x])"
   ]
  },
  {
   "cell_type": "code",
   "execution_count": 79,
   "metadata": {},
   "outputs": [
    {
     "data": {
      "text/html": [
       "<div>\n",
       "<style scoped>\n",
       "    .dataframe tbody tr th:only-of-type {\n",
       "        vertical-align: middle;\n",
       "    }\n",
       "\n",
       "    .dataframe tbody tr th {\n",
       "        vertical-align: top;\n",
       "    }\n",
       "\n",
       "    .dataframe thead th {\n",
       "        text-align: right;\n",
       "    }\n",
       "</style>\n",
       "<table border=\"1\" class=\"dataframe\">\n",
       "  <thead>\n",
       "    <tr style=\"text-align: right;\">\n",
       "      <th></th>\n",
       "      <th>CustomerID</th>\n",
       "      <th>R</th>\n",
       "      <th>F</th>\n",
       "      <th>M</th>\n",
       "      <th>R_segments</th>\n",
       "      <th>F_segments</th>\n",
       "      <th>M_segments</th>\n",
       "      <th>RFM_score</th>\n",
       "      <th>Country</th>\n",
       "    </tr>\n",
       "  </thead>\n",
       "  <tbody>\n",
       "    <tr>\n",
       "      <th>0</th>\n",
       "      <td>12346</td>\n",
       "      <td>325</td>\n",
       "      <td>1</td>\n",
       "      <td>77183.60</td>\n",
       "      <td>4</td>\n",
       "      <td>4</td>\n",
       "      <td>1</td>\n",
       "      <td>441</td>\n",
       "      <td>United Kingdom</td>\n",
       "    </tr>\n",
       "    <tr>\n",
       "      <th>1</th>\n",
       "      <td>12347</td>\n",
       "      <td>2</td>\n",
       "      <td>182</td>\n",
       "      <td>4310.00</td>\n",
       "      <td>1</td>\n",
       "      <td>1</td>\n",
       "      <td>1</td>\n",
       "      <td>111</td>\n",
       "      <td>Iceland</td>\n",
       "    </tr>\n",
       "    <tr>\n",
       "      <th>2</th>\n",
       "      <td>12348</td>\n",
       "      <td>75</td>\n",
       "      <td>27</td>\n",
       "      <td>1437.24</td>\n",
       "      <td>3</td>\n",
       "      <td>3</td>\n",
       "      <td>2</td>\n",
       "      <td>332</td>\n",
       "      <td>Finland</td>\n",
       "    </tr>\n",
       "  </tbody>\n",
       "</table>\n",
       "</div>"
      ],
      "text/plain": [
       "   CustomerID    R    F         M  R_segments  F_segments  M_segments  \\\n",
       "0       12346  325    1  77183.60           4           4           1   \n",
       "1       12347    2  182   4310.00           1           1           1   \n",
       "2       12348   75   27   1437.24           3           3           2   \n",
       "\n",
       "  RFM_score         Country  \n",
       "0       441  United Kingdom  \n",
       "1       111         Iceland  \n",
       "2       332         Finland  "
      ]
     },
     "execution_count": 79,
     "metadata": {},
     "output_type": "execute_result"
    }
   ],
   "source": [
    "rfm_index.head(3)"
   ]
  },
  {
   "cell_type": "code",
   "execution_count": 80,
   "metadata": {},
   "outputs": [
    {
     "data": {
      "text/html": [
       "<div>\n",
       "<style scoped>\n",
       "    .dataframe tbody tr th:only-of-type {\n",
       "        vertical-align: middle;\n",
       "    }\n",
       "\n",
       "    .dataframe tbody tr th {\n",
       "        vertical-align: top;\n",
       "    }\n",
       "\n",
       "    .dataframe thead th {\n",
       "        text-align: right;\n",
       "    }\n",
       "</style>\n",
       "<table border=\"1\" class=\"dataframe\">\n",
       "  <thead>\n",
       "    <tr style=\"text-align: right;\">\n",
       "      <th></th>\n",
       "      <th>CustomerID</th>\n",
       "      <th>R</th>\n",
       "      <th>F</th>\n",
       "      <th>M</th>\n",
       "      <th>R_segments</th>\n",
       "      <th>F_segments</th>\n",
       "      <th>M_segments</th>\n",
       "      <th>RFM_score</th>\n",
       "      <th>Country</th>\n",
       "    </tr>\n",
       "  </thead>\n",
       "  <tbody>\n",
       "    <tr>\n",
       "      <th>188</th>\n",
       "      <td>12583</td>\n",
       "      <td>2</td>\n",
       "      <td>232</td>\n",
       "      <td>6705.38</td>\n",
       "      <td>1</td>\n",
       "      <td>1</td>\n",
       "      <td>1</td>\n",
       "      <td>111</td>\n",
       "      <td>France</td>\n",
       "    </tr>\n",
       "  </tbody>\n",
       "</table>\n",
       "</div>"
      ],
      "text/plain": [
       "     CustomerID  R    F        M  R_segments  F_segments  M_segments  \\\n",
       "188       12583  2  232  6705.38           1           1           1   \n",
       "\n",
       "    RFM_score Country  \n",
       "188       111  France  "
      ]
     },
     "execution_count": 80,
     "metadata": {},
     "output_type": "execute_result"
    }
   ],
   "source": [
    "rfm_index.query('CustomerID==12583')"
   ]
  },
  {
   "cell_type": "markdown",
   "metadata": {},
   "source": [
    "#### Number of distinct items bought by Customer"
   ]
  },
  {
   "cell_type": "code",
   "execution_count": 81,
   "metadata": {},
   "outputs": [
    {
     "data": {
      "text/plain": [
       "CustomerID\n",
       "12346      1\n",
       "12347    103\n",
       "12348     21\n",
       "Name: StockCode, dtype: int64"
      ]
     },
     "execution_count": 81,
     "metadata": {},
     "output_type": "execute_result"
    }
   ],
   "source": [
    "# Customer vs Distinc items bought\n",
    "item_link = df_segmentation.groupby('CustomerID')['StockCode'].nunique()\n",
    "item_link.head(3)"
   ]
  },
  {
   "cell_type": "code",
   "execution_count": 82,
   "metadata": {},
   "outputs": [],
   "source": [
    "rfm_index['NuniqueProd'] = rfm_index.CustomerID.apply(lambda x: item_link.loc[x])"
   ]
  },
  {
   "cell_type": "code",
   "execution_count": 83,
   "metadata": {},
   "outputs": [
    {
     "data": {
      "text/html": [
       "<div>\n",
       "<style scoped>\n",
       "    .dataframe tbody tr th:only-of-type {\n",
       "        vertical-align: middle;\n",
       "    }\n",
       "\n",
       "    .dataframe tbody tr th {\n",
       "        vertical-align: top;\n",
       "    }\n",
       "\n",
       "    .dataframe thead th {\n",
       "        text-align: right;\n",
       "    }\n",
       "</style>\n",
       "<table border=\"1\" class=\"dataframe\">\n",
       "  <thead>\n",
       "    <tr style=\"text-align: right;\">\n",
       "      <th></th>\n",
       "      <th>CustomerID</th>\n",
       "      <th>R</th>\n",
       "      <th>F</th>\n",
       "      <th>M</th>\n",
       "      <th>R_segments</th>\n",
       "      <th>F_segments</th>\n",
       "      <th>M_segments</th>\n",
       "      <th>RFM_score</th>\n",
       "      <th>Country</th>\n",
       "      <th>NuniqueProd</th>\n",
       "    </tr>\n",
       "  </thead>\n",
       "  <tbody>\n",
       "    <tr>\n",
       "      <th>0</th>\n",
       "      <td>12346</td>\n",
       "      <td>325</td>\n",
       "      <td>1</td>\n",
       "      <td>77183.60</td>\n",
       "      <td>4</td>\n",
       "      <td>4</td>\n",
       "      <td>1</td>\n",
       "      <td>441</td>\n",
       "      <td>United Kingdom</td>\n",
       "      <td>1</td>\n",
       "    </tr>\n",
       "    <tr>\n",
       "      <th>1</th>\n",
       "      <td>12347</td>\n",
       "      <td>2</td>\n",
       "      <td>182</td>\n",
       "      <td>4310.00</td>\n",
       "      <td>1</td>\n",
       "      <td>1</td>\n",
       "      <td>1</td>\n",
       "      <td>111</td>\n",
       "      <td>Iceland</td>\n",
       "      <td>103</td>\n",
       "    </tr>\n",
       "    <tr>\n",
       "      <th>2</th>\n",
       "      <td>12348</td>\n",
       "      <td>75</td>\n",
       "      <td>27</td>\n",
       "      <td>1437.24</td>\n",
       "      <td>3</td>\n",
       "      <td>3</td>\n",
       "      <td>2</td>\n",
       "      <td>332</td>\n",
       "      <td>Finland</td>\n",
       "      <td>21</td>\n",
       "    </tr>\n",
       "  </tbody>\n",
       "</table>\n",
       "</div>"
      ],
      "text/plain": [
       "   CustomerID    R    F         M  R_segments  F_segments  M_segments  \\\n",
       "0       12346  325    1  77183.60           4           4           1   \n",
       "1       12347    2  182   4310.00           1           1           1   \n",
       "2       12348   75   27   1437.24           3           3           2   \n",
       "\n",
       "  RFM_score         Country  NuniqueProd  \n",
       "0       441  United Kingdom            1  \n",
       "1       111         Iceland          103  \n",
       "2       332         Finland           21  "
      ]
     },
     "execution_count": 83,
     "metadata": {},
     "output_type": "execute_result"
    }
   ],
   "source": [
    "rfm_index.head(3)"
   ]
  },
  {
   "cell_type": "code",
   "execution_count": 141,
   "metadata": {},
   "outputs": [
    {
     "data": {
      "text/html": [
       "<div>\n",
       "<style scoped>\n",
       "    .dataframe tbody tr th:only-of-type {\n",
       "        vertical-align: middle;\n",
       "    }\n",
       "\n",
       "    .dataframe tbody tr th {\n",
       "        vertical-align: top;\n",
       "    }\n",
       "\n",
       "    .dataframe thead th {\n",
       "        text-align: right;\n",
       "    }\n",
       "</style>\n",
       "<table border=\"1\" class=\"dataframe\">\n",
       "  <thead>\n",
       "    <tr style=\"text-align: right;\">\n",
       "      <th></th>\n",
       "      <th>CustomerID</th>\n",
       "      <th>R</th>\n",
       "      <th>F</th>\n",
       "      <th>M</th>\n",
       "      <th>NuniqueProd</th>\n",
       "    </tr>\n",
       "  </thead>\n",
       "  <tbody>\n",
       "    <tr>\n",
       "      <th>536</th>\n",
       "      <td>13052</td>\n",
       "      <td>212</td>\n",
       "      <td>18</td>\n",
       "      <td>348.15</td>\n",
       "      <td>18</td>\n",
       "    </tr>\n",
       "    <tr>\n",
       "      <th>1387</th>\n",
       "      <td>14234</td>\n",
       "      <td>22</td>\n",
       "      <td>147</td>\n",
       "      <td>754.12</td>\n",
       "      <td>122</td>\n",
       "    </tr>\n",
       "    <tr>\n",
       "      <th>3348</th>\n",
       "      <td>16918</td>\n",
       "      <td>49</td>\n",
       "      <td>128</td>\n",
       "      <td>1068.82</td>\n",
       "      <td>97</td>\n",
       "    </tr>\n",
       "    <tr>\n",
       "      <th>3890</th>\n",
       "      <td>17677</td>\n",
       "      <td>1</td>\n",
       "      <td>303</td>\n",
       "      <td>16345.38</td>\n",
       "      <td>178</td>\n",
       "    </tr>\n",
       "    <tr>\n",
       "      <th>2098</th>\n",
       "      <td>15214</td>\n",
       "      <td>1</td>\n",
       "      <td>110</td>\n",
       "      <td>1661.44</td>\n",
       "      <td>109</td>\n",
       "    </tr>\n",
       "  </tbody>\n",
       "</table>\n",
       "</div>"
      ],
      "text/plain": [
       "      CustomerID    R    F         M  NuniqueProd\n",
       "536        13052  212   18    348.15           18\n",
       "1387       14234   22  147    754.12          122\n",
       "3348       16918   49  128   1068.82           97\n",
       "3890       17677    1  303  16345.38          178\n",
       "2098       15214    1  110   1661.44          109"
      ]
     },
     "execution_count": 141,
     "metadata": {},
     "output_type": "execute_result"
    }
   ],
   "source": [
    "rfm_index[['CustomerID', 'R', 'F', 'M', 'NuniqueProd']].sample(5)"
   ]
  },
  {
   "cell_type": "markdown",
   "metadata": {},
   "source": [
    "<a id='exporting'></a>\n",
    "### Exporting Cleaned data in csv\n",
    "<a href=\"#table\">Back to table of content</a>"
   ]
  },
  {
   "cell_type": "code",
   "execution_count": 86,
   "metadata": {},
   "outputs": [],
   "source": [
    "df_segmentation.to_csv('df_RFM_labels.csv', encoding='utf_8', index=False)"
   ]
  },
  {
   "cell_type": "code",
   "execution_count": 87,
   "metadata": {},
   "outputs": [],
   "source": [
    "rfm_index.to_csv('RFM_index.csv', encoding='utf_8', index=False)"
   ]
  }
 ],
 "metadata": {
  "kernelspec": {
   "display_name": "Python 3",
   "language": "python",
   "name": "python3"
  },
  "language_info": {
   "codemirror_mode": {
    "name": "ipython",
    "version": 3
   },
   "file_extension": ".py",
   "mimetype": "text/x-python",
   "name": "python",
   "nbconvert_exporter": "python",
   "pygments_lexer": "ipython3",
   "version": "3.7.2"
  }
 },
 "nbformat": 4,
 "nbformat_minor": 2
}
